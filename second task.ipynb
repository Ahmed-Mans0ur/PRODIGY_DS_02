{
 "cells": [
  {
   "cell_type": "code",
   "execution_count": 1,
   "id": "c53292ef",
   "metadata": {
    "execution": {
     "iopub.execute_input": "2023-12-16T17:42:35.813795Z",
     "iopub.status.busy": "2023-12-16T17:42:35.813149Z",
     "iopub.status.idle": "2023-12-16T17:42:35.818579Z",
     "shell.execute_reply": "2023-12-16T17:42:35.817342Z"
    },
    "papermill": {
     "duration": 0.01442,
     "end_time": "2023-12-16T17:42:35.820755",
     "exception": false,
     "start_time": "2023-12-16T17:42:35.806335",
     "status": "completed"
    },
    "tags": []
   },
   "outputs": [],
   "source": [
    "# import the required libraries \n",
    "import pandas as pd \n",
    "import numpy as np \n",
    "import matplotlib.pyplot as plt"
   ]
  },
  {
   "cell_type": "code",
   "execution_count": 2,
   "id": "e4f9877e",
   "metadata": {
    "execution": {
     "iopub.execute_input": "2023-12-16T17:42:35.833351Z",
     "iopub.status.busy": "2023-12-16T17:42:35.832986Z",
     "iopub.status.idle": "2023-12-16T17:42:35.913261Z",
     "shell.execute_reply": "2023-12-16T17:42:35.912344Z"
    },
    "papermill": {
     "duration": 0.089482,
     "end_time": "2023-12-16T17:42:35.915713",
     "exception": false,
     "start_time": "2023-12-16T17:42:35.826231",
     "status": "completed"
    },
    "tags": []
   },
   "outputs": [
    {
     "data": {
      "text/html": [
       "<div>\n",
       "<style scoped>\n",
       "    .dataframe tbody tr th:only-of-type {\n",
       "        vertical-align: middle;\n",
       "    }\n",
       "\n",
       "    .dataframe tbody tr th {\n",
       "        vertical-align: top;\n",
       "    }\n",
       "\n",
       "    .dataframe thead th {\n",
       "        text-align: right;\n",
       "    }\n",
       "</style>\n",
       "<table border=\"1\" class=\"dataframe\">\n",
       "  <thead>\n",
       "    <tr style=\"text-align: right;\">\n",
       "      <th></th>\n",
       "      <th>ORDERNUMBER</th>\n",
       "      <th>QUANTITYORDERED</th>\n",
       "      <th>PRICEEACH</th>\n",
       "      <th>ORDERLINENUMBER</th>\n",
       "      <th>SALES</th>\n",
       "      <th>ORDERDATE</th>\n",
       "      <th>STATUS</th>\n",
       "      <th>QTR_ID</th>\n",
       "      <th>MONTH_ID</th>\n",
       "      <th>YEAR_ID</th>\n",
       "      <th>...</th>\n",
       "      <th>ADDRESSLINE1</th>\n",
       "      <th>ADDRESSLINE2</th>\n",
       "      <th>CITY</th>\n",
       "      <th>STATE</th>\n",
       "      <th>POSTALCODE</th>\n",
       "      <th>COUNTRY</th>\n",
       "      <th>TERRITORY</th>\n",
       "      <th>CONTACTLASTNAME</th>\n",
       "      <th>CONTACTFIRSTNAME</th>\n",
       "      <th>DEALSIZE</th>\n",
       "    </tr>\n",
       "  </thead>\n",
       "  <tbody>\n",
       "    <tr>\n",
       "      <th>0</th>\n",
       "      <td>10107</td>\n",
       "      <td>30</td>\n",
       "      <td>95.70</td>\n",
       "      <td>2</td>\n",
       "      <td>2871.00</td>\n",
       "      <td>2/24/2003 0:00</td>\n",
       "      <td>Shipped</td>\n",
       "      <td>1</td>\n",
       "      <td>2</td>\n",
       "      <td>2003</td>\n",
       "      <td>...</td>\n",
       "      <td>897 Long Airport Avenue</td>\n",
       "      <td>NaN</td>\n",
       "      <td>NYC</td>\n",
       "      <td>NY</td>\n",
       "      <td>10022</td>\n",
       "      <td>USA</td>\n",
       "      <td>NaN</td>\n",
       "      <td>Yu</td>\n",
       "      <td>Kwai</td>\n",
       "      <td>Small</td>\n",
       "    </tr>\n",
       "    <tr>\n",
       "      <th>1</th>\n",
       "      <td>10121</td>\n",
       "      <td>34</td>\n",
       "      <td>81.35</td>\n",
       "      <td>5</td>\n",
       "      <td>2765.90</td>\n",
       "      <td>5/7/2003 0:00</td>\n",
       "      <td>Shipped</td>\n",
       "      <td>2</td>\n",
       "      <td>5</td>\n",
       "      <td>2003</td>\n",
       "      <td>...</td>\n",
       "      <td>59 rue de l'Abbaye</td>\n",
       "      <td>NaN</td>\n",
       "      <td>Reims</td>\n",
       "      <td>NaN</td>\n",
       "      <td>51100</td>\n",
       "      <td>France</td>\n",
       "      <td>EMEA</td>\n",
       "      <td>Henriot</td>\n",
       "      <td>Paul</td>\n",
       "      <td>Small</td>\n",
       "    </tr>\n",
       "    <tr>\n",
       "      <th>2</th>\n",
       "      <td>10134</td>\n",
       "      <td>41</td>\n",
       "      <td>94.74</td>\n",
       "      <td>2</td>\n",
       "      <td>3884.34</td>\n",
       "      <td>7/1/2003 0:00</td>\n",
       "      <td>Shipped</td>\n",
       "      <td>3</td>\n",
       "      <td>7</td>\n",
       "      <td>2003</td>\n",
       "      <td>...</td>\n",
       "      <td>27 rue du Colonel Pierre Avia</td>\n",
       "      <td>NaN</td>\n",
       "      <td>Paris</td>\n",
       "      <td>NaN</td>\n",
       "      <td>75508</td>\n",
       "      <td>France</td>\n",
       "      <td>EMEA</td>\n",
       "      <td>Da Cunha</td>\n",
       "      <td>Daniel</td>\n",
       "      <td>Medium</td>\n",
       "    </tr>\n",
       "    <tr>\n",
       "      <th>3</th>\n",
       "      <td>10145</td>\n",
       "      <td>45</td>\n",
       "      <td>83.26</td>\n",
       "      <td>6</td>\n",
       "      <td>3746.70</td>\n",
       "      <td>8/25/2003 0:00</td>\n",
       "      <td>Shipped</td>\n",
       "      <td>3</td>\n",
       "      <td>8</td>\n",
       "      <td>2003</td>\n",
       "      <td>...</td>\n",
       "      <td>78934 Hillside Dr.</td>\n",
       "      <td>NaN</td>\n",
       "      <td>Pasadena</td>\n",
       "      <td>CA</td>\n",
       "      <td>90003</td>\n",
       "      <td>USA</td>\n",
       "      <td>NaN</td>\n",
       "      <td>Young</td>\n",
       "      <td>Julie</td>\n",
       "      <td>Medium</td>\n",
       "    </tr>\n",
       "    <tr>\n",
       "      <th>4</th>\n",
       "      <td>10159</td>\n",
       "      <td>49</td>\n",
       "      <td>100.00</td>\n",
       "      <td>14</td>\n",
       "      <td>5205.27</td>\n",
       "      <td>10/10/2003 0:00</td>\n",
       "      <td>Shipped</td>\n",
       "      <td>4</td>\n",
       "      <td>10</td>\n",
       "      <td>2003</td>\n",
       "      <td>...</td>\n",
       "      <td>7734 Strong St.</td>\n",
       "      <td>NaN</td>\n",
       "      <td>San Francisco</td>\n",
       "      <td>CA</td>\n",
       "      <td>NaN</td>\n",
       "      <td>USA</td>\n",
       "      <td>NaN</td>\n",
       "      <td>Brown</td>\n",
       "      <td>Julie</td>\n",
       "      <td>Medium</td>\n",
       "    </tr>\n",
       "  </tbody>\n",
       "</table>\n",
       "<p>5 rows × 25 columns</p>\n",
       "</div>"
      ],
      "text/plain": [
       "   ORDERNUMBER  QUANTITYORDERED  PRICEEACH  ORDERLINENUMBER    SALES  \\\n",
       "0        10107               30      95.70                2  2871.00   \n",
       "1        10121               34      81.35                5  2765.90   \n",
       "2        10134               41      94.74                2  3884.34   \n",
       "3        10145               45      83.26                6  3746.70   \n",
       "4        10159               49     100.00               14  5205.27   \n",
       "\n",
       "         ORDERDATE   STATUS  QTR_ID  MONTH_ID  YEAR_ID  ...  \\\n",
       "0   2/24/2003 0:00  Shipped       1         2     2003  ...   \n",
       "1    5/7/2003 0:00  Shipped       2         5     2003  ...   \n",
       "2    7/1/2003 0:00  Shipped       3         7     2003  ...   \n",
       "3   8/25/2003 0:00  Shipped       3         8     2003  ...   \n",
       "4  10/10/2003 0:00  Shipped       4        10     2003  ...   \n",
       "\n",
       "                    ADDRESSLINE1  ADDRESSLINE2           CITY STATE  \\\n",
       "0        897 Long Airport Avenue           NaN            NYC    NY   \n",
       "1             59 rue de l'Abbaye           NaN          Reims   NaN   \n",
       "2  27 rue du Colonel Pierre Avia           NaN          Paris   NaN   \n",
       "3             78934 Hillside Dr.           NaN       Pasadena    CA   \n",
       "4                7734 Strong St.           NaN  San Francisco    CA   \n",
       "\n",
       "  POSTALCODE COUNTRY TERRITORY CONTACTLASTNAME CONTACTFIRSTNAME DEALSIZE  \n",
       "0      10022     USA       NaN              Yu             Kwai    Small  \n",
       "1      51100  France      EMEA         Henriot             Paul    Small  \n",
       "2      75508  France      EMEA        Da Cunha           Daniel   Medium  \n",
       "3      90003     USA       NaN           Young            Julie   Medium  \n",
       "4        NaN     USA       NaN           Brown            Julie   Medium  \n",
       "\n",
       "[5 rows x 25 columns]"
      ]
     },
     "execution_count": 2,
     "metadata": {},
     "output_type": "execute_result"
    }
   ],
   "source": [
    "# read the data using read_csv function and show the first five columns\n",
    "df = pd.read_csv(r'sales_data_sample.csv', encoding='latin-1')\n",
    "df.head()\n"
   ]
  },
  {
   "cell_type": "code",
   "execution_count": 3,
   "id": "363cae35",
   "metadata": {
    "execution": {
     "iopub.execute_input": "2023-12-16T17:42:35.930878Z",
     "iopub.status.busy": "2023-12-16T17:42:35.930281Z",
     "iopub.status.idle": "2023-12-16T17:42:35.934959Z",
     "shell.execute_reply": "2023-12-16T17:42:35.934286Z"
    },
    "papermill": {
     "duration": 0.013861,
     "end_time": "2023-12-16T17:42:35.936959",
     "exception": false,
     "start_time": "2023-12-16T17:42:35.923098",
     "status": "completed"
    },
    "tags": []
   },
   "outputs": [
    {
     "name": "stdout",
     "output_type": "stream",
     "text": [
      "the number of rows : 2823\n",
      "the number of columns : 25\n"
     ]
    }
   ],
   "source": [
    "# show the number of rows and the number of columns of your data \n",
    "print(f'the number of rows : {df.shape[0]}')\n",
    "print(f'the number of columns : {df.shape[1]}')"
   ]
  },
  {
   "cell_type": "code",
   "execution_count": 4,
   "id": "e1291c82",
   "metadata": {
    "execution": {
     "iopub.execute_input": "2023-12-16T17:42:35.950307Z",
     "iopub.status.busy": "2023-12-16T17:42:35.949652Z",
     "iopub.status.idle": "2023-12-16T17:42:35.957390Z",
     "shell.execute_reply": "2023-12-16T17:42:35.956594Z"
    },
    "papermill": {
     "duration": 0.016622,
     "end_time": "2023-12-16T17:42:35.959322",
     "exception": false,
     "start_time": "2023-12-16T17:42:35.942700",
     "status": "completed"
    },
    "tags": []
   },
   "outputs": [
    {
     "data": {
      "text/plain": [
       "ORDERNUMBER           int64\n",
       "QUANTITYORDERED       int64\n",
       "PRICEEACH           float64\n",
       "ORDERLINENUMBER       int64\n",
       "SALES               float64\n",
       "ORDERDATE            object\n",
       "STATUS               object\n",
       "QTR_ID                int64\n",
       "MONTH_ID              int64\n",
       "YEAR_ID               int64\n",
       "PRODUCTLINE          object\n",
       "MSRP                  int64\n",
       "PRODUCTCODE          object\n",
       "CUSTOMERNAME         object\n",
       "PHONE                object\n",
       "ADDRESSLINE1         object\n",
       "ADDRESSLINE2         object\n",
       "CITY                 object\n",
       "STATE                object\n",
       "POSTALCODE           object\n",
       "COUNTRY              object\n",
       "TERRITORY            object\n",
       "CONTACTLASTNAME      object\n",
       "CONTACTFIRSTNAME     object\n",
       "DEALSIZE             object\n",
       "dtype: object"
      ]
     },
     "execution_count": 4,
     "metadata": {},
     "output_type": "execute_result"
    }
   ],
   "source": [
    "# show the dtypes of the columns usnig .dtypes\n",
    "df.dtypes"
   ]
  },
  {
   "cell_type": "code",
   "execution_count": 5,
   "id": "ec943b62",
   "metadata": {
    "execution": {
     "iopub.execute_input": "2023-12-16T17:42:35.972869Z",
     "iopub.status.busy": "2023-12-16T17:42:35.972081Z",
     "iopub.status.idle": "2023-12-16T17:42:35.997697Z",
     "shell.execute_reply": "2023-12-16T17:42:35.996432Z"
    },
    "papermill": {
     "duration": 0.035082,
     "end_time": "2023-12-16T17:42:36.000143",
     "exception": false,
     "start_time": "2023-12-16T17:42:35.965061",
     "status": "completed"
    },
    "tags": []
   },
   "outputs": [
    {
     "name": "stdout",
     "output_type": "stream",
     "text": [
      "<class 'pandas.core.frame.DataFrame'>\n",
      "RangeIndex: 2823 entries, 0 to 2822\n",
      "Data columns (total 25 columns):\n",
      " #   Column            Non-Null Count  Dtype  \n",
      "---  ------            --------------  -----  \n",
      " 0   ORDERNUMBER       2823 non-null   int64  \n",
      " 1   QUANTITYORDERED   2823 non-null   int64  \n",
      " 2   PRICEEACH         2823 non-null   float64\n",
      " 3   ORDERLINENUMBER   2823 non-null   int64  \n",
      " 4   SALES             2823 non-null   float64\n",
      " 5   ORDERDATE         2823 non-null   object \n",
      " 6   STATUS            2823 non-null   object \n",
      " 7   QTR_ID            2823 non-null   int64  \n",
      " 8   MONTH_ID          2823 non-null   int64  \n",
      " 9   YEAR_ID           2823 non-null   int64  \n",
      " 10  PRODUCTLINE       2823 non-null   object \n",
      " 11  MSRP              2823 non-null   int64  \n",
      " 12  PRODUCTCODE       2823 non-null   object \n",
      " 13  CUSTOMERNAME      2823 non-null   object \n",
      " 14  PHONE             2823 non-null   object \n",
      " 15  ADDRESSLINE1      2823 non-null   object \n",
      " 16  ADDRESSLINE2      302 non-null    object \n",
      " 17  CITY              2823 non-null   object \n",
      " 18  STATE             1337 non-null   object \n",
      " 19  POSTALCODE        2747 non-null   object \n",
      " 20  COUNTRY           2823 non-null   object \n",
      " 21  TERRITORY         1749 non-null   object \n",
      " 22  CONTACTLASTNAME   2823 non-null   object \n",
      " 23  CONTACTFIRSTNAME  2823 non-null   object \n",
      " 24  DEALSIZE          2823 non-null   object \n",
      "dtypes: float64(2), int64(7), object(16)\n",
      "memory usage: 551.5+ KB\n"
     ]
    }
   ],
   "source": [
    "# show some info of your data \n",
    "df.info()"
   ]
  },
  {
   "cell_type": "code",
   "execution_count": 6,
   "id": "27c06787",
   "metadata": {
    "execution": {
     "iopub.execute_input": "2023-12-16T17:42:36.014874Z",
     "iopub.status.busy": "2023-12-16T17:42:36.014485Z",
     "iopub.status.idle": "2023-12-16T17:42:36.020905Z",
     "shell.execute_reply": "2023-12-16T17:42:36.019762Z"
    },
    "papermill": {
     "duration": 0.01593,
     "end_time": "2023-12-16T17:42:36.023062",
     "exception": false,
     "start_time": "2023-12-16T17:42:36.007132",
     "status": "completed"
    },
    "tags": []
   },
   "outputs": [
    {
     "data": {
      "text/plain": [
       "Index(['ORDERNUMBER', 'QUANTITYORDERED', 'PRICEEACH', 'ORDERLINENUMBER',\n",
       "       'SALES', 'ORDERDATE', 'STATUS', 'QTR_ID', 'MONTH_ID', 'YEAR_ID',\n",
       "       'PRODUCTLINE', 'MSRP', 'PRODUCTCODE', 'CUSTOMERNAME', 'PHONE',\n",
       "       'ADDRESSLINE1', 'ADDRESSLINE2', 'CITY', 'STATE', 'POSTALCODE',\n",
       "       'COUNTRY', 'TERRITORY', 'CONTACTLASTNAME', 'CONTACTFIRSTNAME',\n",
       "       'DEALSIZE'],\n",
       "      dtype='object')"
      ]
     },
     "execution_count": 6,
     "metadata": {},
     "output_type": "execute_result"
    }
   ],
   "source": [
    "#show the columns of the data \n",
    "df.columns"
   ]
  },
  {
   "cell_type": "code",
   "execution_count": 7,
   "id": "a6644d42",
   "metadata": {
    "execution": {
     "iopub.execute_input": "2023-12-16T17:42:36.037421Z",
     "iopub.status.busy": "2023-12-16T17:42:36.036747Z",
     "iopub.status.idle": "2023-12-16T17:42:36.047237Z",
     "shell.execute_reply": "2023-12-16T17:42:36.046188Z"
    },
    "papermill": {
     "duration": 0.020221,
     "end_time": "2023-12-16T17:42:36.049403",
     "exception": false,
     "start_time": "2023-12-16T17:42:36.029182",
     "status": "completed"
    },
    "tags": []
   },
   "outputs": [
    {
     "data": {
      "text/plain": [
       "ORDERNUMBER            0\n",
       "QUANTITYORDERED        0\n",
       "PRICEEACH              0\n",
       "ORDERLINENUMBER        0\n",
       "SALES                  0\n",
       "ORDERDATE              0\n",
       "STATUS                 0\n",
       "QTR_ID                 0\n",
       "MONTH_ID               0\n",
       "YEAR_ID                0\n",
       "PRODUCTLINE            0\n",
       "MSRP                   0\n",
       "PRODUCTCODE            0\n",
       "CUSTOMERNAME           0\n",
       "PHONE                  0\n",
       "ADDRESSLINE1           0\n",
       "ADDRESSLINE2        2521\n",
       "CITY                   0\n",
       "STATE               1486\n",
       "POSTALCODE            76\n",
       "COUNTRY                0\n",
       "TERRITORY           1074\n",
       "CONTACTLASTNAME        0\n",
       "CONTACTFIRSTNAME       0\n",
       "DEALSIZE               0\n",
       "dtype: int64"
      ]
     },
     "execution_count": 7,
     "metadata": {},
     "output_type": "execute_result"
    }
   ],
   "source": [
    "# show the number of null values of each column \n",
    "df.isna().sum()"
   ]
  },
  {
   "cell_type": "code",
   "execution_count": 8,
   "id": "84b73e00",
   "metadata": {
    "execution": {
     "iopub.execute_input": "2023-12-16T17:42:36.063755Z",
     "iopub.status.busy": "2023-12-16T17:42:36.063373Z",
     "iopub.status.idle": "2023-12-16T17:42:36.070893Z",
     "shell.execute_reply": "2023-12-16T17:42:36.069728Z"
    },
    "papermill": {
     "duration": 0.017102,
     "end_time": "2023-12-16T17:42:36.072993",
     "exception": false,
     "start_time": "2023-12-16T17:42:36.055891",
     "status": "completed"
    },
    "tags": []
   },
   "outputs": [],
   "source": [
    "# drop the columns that have very much values ['ADDRESSLINE2', 'STATE', 'TERRITORY']\n",
    "df.drop(columns=['ADDRESSLINE2', 'STATE', 'TERRITORY'], inplace=True) # inplace = True means that you apply the variatoins on the dataframe"
   ]
  },
  {
   "cell_type": "code",
   "execution_count": 9,
   "id": "695b6342",
   "metadata": {
    "execution": {
     "iopub.execute_input": "2023-12-16T17:42:36.087083Z",
     "iopub.status.busy": "2023-12-16T17:42:36.086707Z",
     "iopub.status.idle": "2023-12-16T17:42:36.097229Z",
     "shell.execute_reply": "2023-12-16T17:42:36.096210Z"
    },
    "papermill": {
     "duration": 0.019966,
     "end_time": "2023-12-16T17:42:36.099344",
     "exception": false,
     "start_time": "2023-12-16T17:42:36.079378",
     "status": "completed"
    },
    "tags": []
   },
   "outputs": [
    {
     "data": {
      "text/plain": [
       "ORDERNUMBER          0\n",
       "QUANTITYORDERED      0\n",
       "PRICEEACH            0\n",
       "ORDERLINENUMBER      0\n",
       "SALES                0\n",
       "ORDERDATE            0\n",
       "STATUS               0\n",
       "QTR_ID               0\n",
       "MONTH_ID             0\n",
       "YEAR_ID              0\n",
       "PRODUCTLINE          0\n",
       "MSRP                 0\n",
       "PRODUCTCODE          0\n",
       "CUSTOMERNAME         0\n",
       "PHONE                0\n",
       "ADDRESSLINE1         0\n",
       "CITY                 0\n",
       "POSTALCODE          76\n",
       "COUNTRY              0\n",
       "CONTACTLASTNAME      0\n",
       "CONTACTFIRSTNAME     0\n",
       "DEALSIZE             0\n",
       "dtype: int64"
      ]
     },
     "execution_count": 9,
     "metadata": {},
     "output_type": "execute_result"
    }
   ],
   "source": [
    "df.isna().sum()"
   ]
  },
  {
   "cell_type": "code",
   "execution_count": 10,
   "id": "16220e94",
   "metadata": {
    "execution": {
     "iopub.execute_input": "2023-12-16T17:42:36.113654Z",
     "iopub.status.busy": "2023-12-16T17:42:36.113277Z",
     "iopub.status.idle": "2023-12-16T17:42:36.138022Z",
     "shell.execute_reply": "2023-12-16T17:42:36.137002Z"
    },
    "papermill": {
     "duration": 0.034648,
     "end_time": "2023-12-16T17:42:36.140389",
     "exception": false,
     "start_time": "2023-12-16T17:42:36.105741",
     "status": "completed"
    },
    "tags": []
   },
   "outputs": [
    {
     "data": {
      "text/html": [
       "<div>\n",
       "<style scoped>\n",
       "    .dataframe tbody tr th:only-of-type {\n",
       "        vertical-align: middle;\n",
       "    }\n",
       "\n",
       "    .dataframe tbody tr th {\n",
       "        vertical-align: top;\n",
       "    }\n",
       "\n",
       "    .dataframe thead th {\n",
       "        text-align: right;\n",
       "    }\n",
       "</style>\n",
       "<table border=\"1\" class=\"dataframe\">\n",
       "  <thead>\n",
       "    <tr style=\"text-align: right;\">\n",
       "      <th></th>\n",
       "      <th>ORDERNUMBER</th>\n",
       "      <th>QUANTITYORDERED</th>\n",
       "      <th>PRICEEACH</th>\n",
       "      <th>ORDERLINENUMBER</th>\n",
       "      <th>SALES</th>\n",
       "      <th>ORDERDATE</th>\n",
       "      <th>STATUS</th>\n",
       "      <th>QTR_ID</th>\n",
       "      <th>MONTH_ID</th>\n",
       "      <th>YEAR_ID</th>\n",
       "      <th>...</th>\n",
       "      <th>PRODUCTCODE</th>\n",
       "      <th>CUSTOMERNAME</th>\n",
       "      <th>PHONE</th>\n",
       "      <th>ADDRESSLINE1</th>\n",
       "      <th>CITY</th>\n",
       "      <th>POSTALCODE</th>\n",
       "      <th>COUNTRY</th>\n",
       "      <th>CONTACTLASTNAME</th>\n",
       "      <th>CONTACTFIRSTNAME</th>\n",
       "      <th>DEALSIZE</th>\n",
       "    </tr>\n",
       "  </thead>\n",
       "  <tbody>\n",
       "    <tr>\n",
       "      <th>0</th>\n",
       "      <td>10107</td>\n",
       "      <td>30</td>\n",
       "      <td>95.70</td>\n",
       "      <td>2</td>\n",
       "      <td>2871.00</td>\n",
       "      <td>2/24/2003 0:00</td>\n",
       "      <td>Shipped</td>\n",
       "      <td>1</td>\n",
       "      <td>2</td>\n",
       "      <td>2003</td>\n",
       "      <td>...</td>\n",
       "      <td>S10_1678</td>\n",
       "      <td>Land of Toys Inc.</td>\n",
       "      <td>2125557818</td>\n",
       "      <td>897 Long Airport Avenue</td>\n",
       "      <td>NYC</td>\n",
       "      <td>10022</td>\n",
       "      <td>USA</td>\n",
       "      <td>Yu</td>\n",
       "      <td>Kwai</td>\n",
       "      <td>Small</td>\n",
       "    </tr>\n",
       "    <tr>\n",
       "      <th>1</th>\n",
       "      <td>10121</td>\n",
       "      <td>34</td>\n",
       "      <td>81.35</td>\n",
       "      <td>5</td>\n",
       "      <td>2765.90</td>\n",
       "      <td>5/7/2003 0:00</td>\n",
       "      <td>Shipped</td>\n",
       "      <td>2</td>\n",
       "      <td>5</td>\n",
       "      <td>2003</td>\n",
       "      <td>...</td>\n",
       "      <td>S10_1678</td>\n",
       "      <td>Reims Collectables</td>\n",
       "      <td>26.47.1555</td>\n",
       "      <td>59 rue de l'Abbaye</td>\n",
       "      <td>Reims</td>\n",
       "      <td>51100</td>\n",
       "      <td>France</td>\n",
       "      <td>Henriot</td>\n",
       "      <td>Paul</td>\n",
       "      <td>Small</td>\n",
       "    </tr>\n",
       "    <tr>\n",
       "      <th>2</th>\n",
       "      <td>10134</td>\n",
       "      <td>41</td>\n",
       "      <td>94.74</td>\n",
       "      <td>2</td>\n",
       "      <td>3884.34</td>\n",
       "      <td>7/1/2003 0:00</td>\n",
       "      <td>Shipped</td>\n",
       "      <td>3</td>\n",
       "      <td>7</td>\n",
       "      <td>2003</td>\n",
       "      <td>...</td>\n",
       "      <td>S10_1678</td>\n",
       "      <td>Lyon Souveniers</td>\n",
       "      <td>+33 1 46 62 7555</td>\n",
       "      <td>27 rue du Colonel Pierre Avia</td>\n",
       "      <td>Paris</td>\n",
       "      <td>75508</td>\n",
       "      <td>France</td>\n",
       "      <td>Da Cunha</td>\n",
       "      <td>Daniel</td>\n",
       "      <td>Medium</td>\n",
       "    </tr>\n",
       "    <tr>\n",
       "      <th>3</th>\n",
       "      <td>10145</td>\n",
       "      <td>45</td>\n",
       "      <td>83.26</td>\n",
       "      <td>6</td>\n",
       "      <td>3746.70</td>\n",
       "      <td>8/25/2003 0:00</td>\n",
       "      <td>Shipped</td>\n",
       "      <td>3</td>\n",
       "      <td>8</td>\n",
       "      <td>2003</td>\n",
       "      <td>...</td>\n",
       "      <td>S10_1678</td>\n",
       "      <td>Toys4GrownUps.com</td>\n",
       "      <td>6265557265</td>\n",
       "      <td>78934 Hillside Dr.</td>\n",
       "      <td>Pasadena</td>\n",
       "      <td>90003</td>\n",
       "      <td>USA</td>\n",
       "      <td>Young</td>\n",
       "      <td>Julie</td>\n",
       "      <td>Medium</td>\n",
       "    </tr>\n",
       "    <tr>\n",
       "      <th>5</th>\n",
       "      <td>10168</td>\n",
       "      <td>36</td>\n",
       "      <td>96.66</td>\n",
       "      <td>1</td>\n",
       "      <td>3479.76</td>\n",
       "      <td>10/28/2003 0:00</td>\n",
       "      <td>Shipped</td>\n",
       "      <td>4</td>\n",
       "      <td>10</td>\n",
       "      <td>2003</td>\n",
       "      <td>...</td>\n",
       "      <td>S10_1678</td>\n",
       "      <td>Technics Stores Inc.</td>\n",
       "      <td>6505556809</td>\n",
       "      <td>9408 Furth Circle</td>\n",
       "      <td>Burlingame</td>\n",
       "      <td>94217</td>\n",
       "      <td>USA</td>\n",
       "      <td>Hirano</td>\n",
       "      <td>Juri</td>\n",
       "      <td>Medium</td>\n",
       "    </tr>\n",
       "  </tbody>\n",
       "</table>\n",
       "<p>5 rows × 22 columns</p>\n",
       "</div>"
      ],
      "text/plain": [
       "   ORDERNUMBER  QUANTITYORDERED  PRICEEACH  ORDERLINENUMBER    SALES  \\\n",
       "0        10107               30      95.70                2  2871.00   \n",
       "1        10121               34      81.35                5  2765.90   \n",
       "2        10134               41      94.74                2  3884.34   \n",
       "3        10145               45      83.26                6  3746.70   \n",
       "5        10168               36      96.66                1  3479.76   \n",
       "\n",
       "         ORDERDATE   STATUS  QTR_ID  MONTH_ID  YEAR_ID  ... PRODUCTCODE  \\\n",
       "0   2/24/2003 0:00  Shipped       1         2     2003  ...    S10_1678   \n",
       "1    5/7/2003 0:00  Shipped       2         5     2003  ...    S10_1678   \n",
       "2    7/1/2003 0:00  Shipped       3         7     2003  ...    S10_1678   \n",
       "3   8/25/2003 0:00  Shipped       3         8     2003  ...    S10_1678   \n",
       "5  10/28/2003 0:00  Shipped       4        10     2003  ...    S10_1678   \n",
       "\n",
       "           CUSTOMERNAME             PHONE                   ADDRESSLINE1  \\\n",
       "0     Land of Toys Inc.        2125557818        897 Long Airport Avenue   \n",
       "1    Reims Collectables        26.47.1555             59 rue de l'Abbaye   \n",
       "2       Lyon Souveniers  +33 1 46 62 7555  27 rue du Colonel Pierre Avia   \n",
       "3     Toys4GrownUps.com        6265557265             78934 Hillside Dr.   \n",
       "5  Technics Stores Inc.        6505556809              9408 Furth Circle   \n",
       "\n",
       "         CITY POSTALCODE COUNTRY CONTACTLASTNAME CONTACTFIRSTNAME DEALSIZE  \n",
       "0         NYC      10022     USA              Yu             Kwai    Small  \n",
       "1       Reims      51100  France         Henriot             Paul    Small  \n",
       "2       Paris      75508  France        Da Cunha           Daniel   Medium  \n",
       "3    Pasadena      90003     USA           Young            Julie   Medium  \n",
       "5  Burlingame      94217     USA          Hirano             Juri   Medium  \n",
       "\n",
       "[5 rows x 22 columns]"
      ]
     },
     "execution_count": 10,
     "metadata": {},
     "output_type": "execute_result"
    }
   ],
   "source": [
    "# now you can drop the null values without damaging the dataframe using dropna() and show the first five rows \n",
    "df.dropna(inplace=True)\n",
    "df.head()"
   ]
  },
  {
   "cell_type": "code",
   "execution_count": null,
   "id": "793b1c95",
   "metadata": {},
   "outputs": [],
   "source": []
  },
  {
   "cell_type": "code",
   "execution_count": 11,
   "id": "39c9051f",
   "metadata": {
    "execution": {
     "iopub.execute_input": "2023-12-16T17:42:36.156869Z",
     "iopub.status.busy": "2023-12-16T17:42:36.156482Z",
     "iopub.status.idle": "2023-12-16T17:42:36.194293Z",
     "shell.execute_reply": "2023-12-16T17:42:36.193286Z"
    },
    "papermill": {
     "duration": 0.049457,
     "end_time": "2023-12-16T17:42:36.197020",
     "exception": false,
     "start_time": "2023-12-16T17:42:36.147563",
     "status": "completed"
    },
    "scrolled": true,
    "tags": []
   },
   "outputs": [
    {
     "data": {
      "text/html": [
       "<div>\n",
       "<style scoped>\n",
       "    .dataframe tbody tr th:only-of-type {\n",
       "        vertical-align: middle;\n",
       "    }\n",
       "\n",
       "    .dataframe tbody tr th {\n",
       "        vertical-align: top;\n",
       "    }\n",
       "\n",
       "    .dataframe thead th {\n",
       "        text-align: right;\n",
       "    }\n",
       "</style>\n",
       "<table border=\"1\" class=\"dataframe\">\n",
       "  <thead>\n",
       "    <tr style=\"text-align: right;\">\n",
       "      <th></th>\n",
       "      <th>count</th>\n",
       "      <th>mean</th>\n",
       "      <th>std</th>\n",
       "      <th>min</th>\n",
       "      <th>25%</th>\n",
       "      <th>50%</th>\n",
       "      <th>75%</th>\n",
       "      <th>max</th>\n",
       "    </tr>\n",
       "  </thead>\n",
       "  <tbody>\n",
       "    <tr>\n",
       "      <th>ORDERNUMBER</th>\n",
       "      <td>2747.0</td>\n",
       "      <td>10259.761558</td>\n",
       "      <td>91.877521</td>\n",
       "      <td>10100.00</td>\n",
       "      <td>10181.000</td>\n",
       "      <td>10264.00</td>\n",
       "      <td>10334.500</td>\n",
       "      <td>10425.0</td>\n",
       "    </tr>\n",
       "    <tr>\n",
       "      <th>QUANTITYORDERED</th>\n",
       "      <td>2747.0</td>\n",
       "      <td>35.103021</td>\n",
       "      <td>9.762135</td>\n",
       "      <td>6.00</td>\n",
       "      <td>27.000</td>\n",
       "      <td>35.00</td>\n",
       "      <td>43.000</td>\n",
       "      <td>97.0</td>\n",
       "    </tr>\n",
       "    <tr>\n",
       "      <th>PRICEEACH</th>\n",
       "      <td>2747.0</td>\n",
       "      <td>83.648966</td>\n",
       "      <td>20.144229</td>\n",
       "      <td>26.88</td>\n",
       "      <td>68.745</td>\n",
       "      <td>95.55</td>\n",
       "      <td>100.000</td>\n",
       "      <td>100.0</td>\n",
       "    </tr>\n",
       "    <tr>\n",
       "      <th>ORDERLINENUMBER</th>\n",
       "      <td>2747.0</td>\n",
       "      <td>6.491081</td>\n",
       "      <td>4.230544</td>\n",
       "      <td>1.00</td>\n",
       "      <td>3.000</td>\n",
       "      <td>6.00</td>\n",
       "      <td>9.000</td>\n",
       "      <td>18.0</td>\n",
       "    </tr>\n",
       "    <tr>\n",
       "      <th>SALES</th>\n",
       "      <td>2747.0</td>\n",
       "      <td>3553.047583</td>\n",
       "      <td>1838.953901</td>\n",
       "      <td>482.13</td>\n",
       "      <td>2204.350</td>\n",
       "      <td>3184.80</td>\n",
       "      <td>4503.095</td>\n",
       "      <td>14082.8</td>\n",
       "    </tr>\n",
       "    <tr>\n",
       "      <th>QTR_ID</th>\n",
       "      <td>2747.0</td>\n",
       "      <td>2.711685</td>\n",
       "      <td>1.196264</td>\n",
       "      <td>1.00</td>\n",
       "      <td>2.000</td>\n",
       "      <td>3.00</td>\n",
       "      <td>4.000</td>\n",
       "      <td>4.0</td>\n",
       "    </tr>\n",
       "    <tr>\n",
       "      <th>MONTH_ID</th>\n",
       "      <td>2747.0</td>\n",
       "      <td>7.083364</td>\n",
       "      <td>3.641826</td>\n",
       "      <td>1.00</td>\n",
       "      <td>4.000</td>\n",
       "      <td>8.00</td>\n",
       "      <td>11.000</td>\n",
       "      <td>12.0</td>\n",
       "    </tr>\n",
       "    <tr>\n",
       "      <th>YEAR_ID</th>\n",
       "      <td>2747.0</td>\n",
       "      <td>2003.822352</td>\n",
       "      <td>0.696288</td>\n",
       "      <td>2003.00</td>\n",
       "      <td>2003.000</td>\n",
       "      <td>2004.00</td>\n",
       "      <td>2004.000</td>\n",
       "      <td>2005.0</td>\n",
       "    </tr>\n",
       "    <tr>\n",
       "      <th>MSRP</th>\n",
       "      <td>2747.0</td>\n",
       "      <td>100.691664</td>\n",
       "      <td>40.114802</td>\n",
       "      <td>33.00</td>\n",
       "      <td>68.000</td>\n",
       "      <td>99.00</td>\n",
       "      <td>124.000</td>\n",
       "      <td>214.0</td>\n",
       "    </tr>\n",
       "  </tbody>\n",
       "</table>\n",
       "</div>"
      ],
      "text/plain": [
       "                  count          mean          std       min        25%  \\\n",
       "ORDERNUMBER      2747.0  10259.761558    91.877521  10100.00  10181.000   \n",
       "QUANTITYORDERED  2747.0     35.103021     9.762135      6.00     27.000   \n",
       "PRICEEACH        2747.0     83.648966    20.144229     26.88     68.745   \n",
       "ORDERLINENUMBER  2747.0      6.491081     4.230544      1.00      3.000   \n",
       "SALES            2747.0   3553.047583  1838.953901    482.13   2204.350   \n",
       "QTR_ID           2747.0      2.711685     1.196264      1.00      2.000   \n",
       "MONTH_ID         2747.0      7.083364     3.641826      1.00      4.000   \n",
       "YEAR_ID          2747.0   2003.822352     0.696288   2003.00   2003.000   \n",
       "MSRP             2747.0    100.691664    40.114802     33.00     68.000   \n",
       "\n",
       "                      50%        75%      max  \n",
       "ORDERNUMBER      10264.00  10334.500  10425.0  \n",
       "QUANTITYORDERED     35.00     43.000     97.0  \n",
       "PRICEEACH           95.55    100.000    100.0  \n",
       "ORDERLINENUMBER      6.00      9.000     18.0  \n",
       "SALES             3184.80   4503.095  14082.8  \n",
       "QTR_ID               3.00      4.000      4.0  \n",
       "MONTH_ID             8.00     11.000     12.0  \n",
       "YEAR_ID           2004.00   2004.000   2005.0  \n",
       "MSRP                99.00    124.000    214.0  "
      ]
     },
     "execution_count": 11,
     "metadata": {},
     "output_type": "execute_result"
    }
   ],
   "source": [
    "# show summary statistics about numerical features using .describe() method\n",
    "df.describe().T              # .T => Transpose the matrix"
   ]
  },
  {
   "cell_type": "markdown",
   "id": "36bd1176",
   "metadata": {
    "papermill": {
     "duration": 0.006748,
     "end_time": "2023-12-16T17:42:36.210981",
     "exception": false,
     "start_time": "2023-12-16T17:42:36.204233",
     "status": "completed"
    },
    "tags": []
   },
   "source": [
    "# Do some visuals using matplotlib "
   ]
  },
  {
   "cell_type": "code",
   "execution_count": 12,
   "id": "879d8e69",
   "metadata": {
    "execution": {
     "iopub.execute_input": "2023-12-16T17:42:36.227942Z",
     "iopub.status.busy": "2023-12-16T17:42:36.227045Z",
     "iopub.status.idle": "2023-12-16T17:42:36.235960Z",
     "shell.execute_reply": "2023-12-16T17:42:36.234758Z"
    },
    "papermill": {
     "duration": 0.019996,
     "end_time": "2023-12-16T17:42:36.238102",
     "exception": false,
     "start_time": "2023-12-16T17:42:36.218106",
     "status": "completed"
    },
    "scrolled": true,
    "tags": []
   },
   "outputs": [
    {
     "data": {
      "text/plain": [
       "array([2003, 2004, 2005], dtype=int64)"
      ]
     },
     "execution_count": 12,
     "metadata": {},
     "output_type": "execute_result"
    }
   ],
   "source": [
    "df['YEAR_ID'].unique()"
   ]
  },
  {
   "cell_type": "code",
   "execution_count": 13,
   "id": "851011df",
   "metadata": {},
   "outputs": [
    {
     "data": {
      "text/plain": [
       "Index(['ORDERNUMBER', 'QUANTITYORDERED', 'PRICEEACH', 'ORDERLINENUMBER',\n",
       "       'SALES', 'ORDERDATE', 'STATUS', 'QTR_ID', 'MONTH_ID', 'YEAR_ID',\n",
       "       'PRODUCTLINE', 'MSRP', 'PRODUCTCODE', 'CUSTOMERNAME', 'PHONE',\n",
       "       'ADDRESSLINE1', 'CITY', 'POSTALCODE', 'COUNTRY', 'CONTACTLASTNAME',\n",
       "       'CONTACTFIRSTNAME', 'DEALSIZE'],\n",
       "      dtype='object')"
      ]
     },
     "execution_count": 13,
     "metadata": {},
     "output_type": "execute_result"
    }
   ],
   "source": [
    "df.columns\n"
   ]
  },
  {
   "cell_type": "code",
   "execution_count": 14,
   "id": "8ee9e875",
   "metadata": {
    "execution": {
     "iopub.execute_input": "2023-12-16T17:42:36.254953Z",
     "iopub.status.busy": "2023-12-16T17:42:36.254535Z",
     "iopub.status.idle": "2023-12-16T17:42:40.283985Z",
     "shell.execute_reply": "2023-12-16T17:42:40.283181Z"
    },
    "papermill": {
     "duration": 4.040785,
     "end_time": "2023-12-16T17:42:40.286181",
     "exception": false,
     "start_time": "2023-12-16T17:42:36.245396",
     "status": "completed"
    },
    "tags": []
   },
   "outputs": [
    {
     "data": {
      "image/png": "[encoded data removed]",
      "text/plain": [
       "<Figure size 640x480 with 1 Axes>"
      ]
     },
     "metadata": {},
     "output_type": "display_data"
    }
   ],
   "source": [
    "# plot the sales over years using bar plots \n",
    "\n",
    "plt.bar(df['YEAR_ID'], df['SALES'], linewidth=2)\n",
    "plt.xticks([2003, 2004, 2005])\n",
    "plt.title('Sales (USD) over Years')\n",
    "plt.xlabel('Year')\n",
    "plt.ylabel('Sales (USD)')\n",
    "plt.grid(True)\n",
    "plt.show()"
   ]
  },
  {
   "cell_type": "code",
   "execution_count": 15,
   "id": "1d2e63a2",
   "metadata": {},
   "outputs": [
    {
     "data": {
      "text/html": [
       "<div>\n",
       "<style scoped>\n",
       "    .dataframe tbody tr th:only-of-type {\n",
       "        vertical-align: middle;\n",
       "    }\n",
       "\n",
       "    .dataframe tbody tr th {\n",
       "        vertical-align: top;\n",
       "    }\n",
       "\n",
       "    .dataframe thead th {\n",
       "        text-align: right;\n",
       "    }\n",
       "</style>\n",
       "<table border=\"1\" class=\"dataframe\">\n",
       "  <thead>\n",
       "    <tr style=\"text-align: right;\">\n",
       "      <th></th>\n",
       "      <th>ORDERNUMBER</th>\n",
       "      <th>QUANTITYORDERED</th>\n",
       "      <th>PRICEEACH</th>\n",
       "      <th>ORDERLINENUMBER</th>\n",
       "      <th>SALES</th>\n",
       "      <th>ORDERDATE</th>\n",
       "      <th>STATUS</th>\n",
       "      <th>QTR_ID</th>\n",
       "      <th>MONTH_ID</th>\n",
       "      <th>YEAR_ID</th>\n",
       "      <th>...</th>\n",
       "      <th>PRODUCTCODE</th>\n",
       "      <th>CUSTOMERNAME</th>\n",
       "      <th>PHONE</th>\n",
       "      <th>ADDRESSLINE1</th>\n",
       "      <th>CITY</th>\n",
       "      <th>POSTALCODE</th>\n",
       "      <th>COUNTRY</th>\n",
       "      <th>CONTACTLASTNAME</th>\n",
       "      <th>CONTACTFIRSTNAME</th>\n",
       "      <th>DEALSIZE</th>\n",
       "    </tr>\n",
       "  </thead>\n",
       "  <tbody>\n",
       "    <tr>\n",
       "      <th>0</th>\n",
       "      <td>10107</td>\n",
       "      <td>30</td>\n",
       "      <td>95.70</td>\n",
       "      <td>2</td>\n",
       "      <td>2871.00</td>\n",
       "      <td>2/24/2003 0:00</td>\n",
       "      <td>Shipped</td>\n",
       "      <td>1</td>\n",
       "      <td>2</td>\n",
       "      <td>2003</td>\n",
       "      <td>...</td>\n",
       "      <td>S10_1678</td>\n",
       "      <td>Land of Toys Inc.</td>\n",
       "      <td>2125557818</td>\n",
       "      <td>897 Long Airport Avenue</td>\n",
       "      <td>NYC</td>\n",
       "      <td>10022</td>\n",
       "      <td>USA</td>\n",
       "      <td>Yu</td>\n",
       "      <td>Kwai</td>\n",
       "      <td>Small</td>\n",
       "    </tr>\n",
       "    <tr>\n",
       "      <th>1</th>\n",
       "      <td>10121</td>\n",
       "      <td>34</td>\n",
       "      <td>81.35</td>\n",
       "      <td>5</td>\n",
       "      <td>2765.90</td>\n",
       "      <td>5/7/2003 0:00</td>\n",
       "      <td>Shipped</td>\n",
       "      <td>2</td>\n",
       "      <td>5</td>\n",
       "      <td>2003</td>\n",
       "      <td>...</td>\n",
       "      <td>S10_1678</td>\n",
       "      <td>Reims Collectables</td>\n",
       "      <td>26.47.1555</td>\n",
       "      <td>59 rue de l'Abbaye</td>\n",
       "      <td>Reims</td>\n",
       "      <td>51100</td>\n",
       "      <td>France</td>\n",
       "      <td>Henriot</td>\n",
       "      <td>Paul</td>\n",
       "      <td>Small</td>\n",
       "    </tr>\n",
       "    <tr>\n",
       "      <th>2</th>\n",
       "      <td>10134</td>\n",
       "      <td>41</td>\n",
       "      <td>94.74</td>\n",
       "      <td>2</td>\n",
       "      <td>3884.34</td>\n",
       "      <td>7/1/2003 0:00</td>\n",
       "      <td>Shipped</td>\n",
       "      <td>3</td>\n",
       "      <td>7</td>\n",
       "      <td>2003</td>\n",
       "      <td>...</td>\n",
       "      <td>S10_1678</td>\n",
       "      <td>Lyon Souveniers</td>\n",
       "      <td>+33 1 46 62 7555</td>\n",
       "      <td>27 rue du Colonel Pierre Avia</td>\n",
       "      <td>Paris</td>\n",
       "      <td>75508</td>\n",
       "      <td>France</td>\n",
       "      <td>Da Cunha</td>\n",
       "      <td>Daniel</td>\n",
       "      <td>Medium</td>\n",
       "    </tr>\n",
       "    <tr>\n",
       "      <th>3</th>\n",
       "      <td>10145</td>\n",
       "      <td>45</td>\n",
       "      <td>83.26</td>\n",
       "      <td>6</td>\n",
       "      <td>3746.70</td>\n",
       "      <td>8/25/2003 0:00</td>\n",
       "      <td>Shipped</td>\n",
       "      <td>3</td>\n",
       "      <td>8</td>\n",
       "      <td>2003</td>\n",
       "      <td>...</td>\n",
       "      <td>S10_1678</td>\n",
       "      <td>Toys4GrownUps.com</td>\n",
       "      <td>6265557265</td>\n",
       "      <td>78934 Hillside Dr.</td>\n",
       "      <td>Pasadena</td>\n",
       "      <td>90003</td>\n",
       "      <td>USA</td>\n",
       "      <td>Young</td>\n",
       "      <td>Julie</td>\n",
       "      <td>Medium</td>\n",
       "    </tr>\n",
       "    <tr>\n",
       "      <th>5</th>\n",
       "      <td>10168</td>\n",
       "      <td>36</td>\n",
       "      <td>96.66</td>\n",
       "      <td>1</td>\n",
       "      <td>3479.76</td>\n",
       "      <td>10/28/2003 0:00</td>\n",
       "      <td>Shipped</td>\n",
       "      <td>4</td>\n",
       "      <td>10</td>\n",
       "      <td>2003</td>\n",
       "      <td>...</td>\n",
       "      <td>S10_1678</td>\n",
       "      <td>Technics Stores Inc.</td>\n",
       "      <td>6505556809</td>\n",
       "      <td>9408 Furth Circle</td>\n",
       "      <td>Burlingame</td>\n",
       "      <td>94217</td>\n",
       "      <td>USA</td>\n",
       "      <td>Hirano</td>\n",
       "      <td>Juri</td>\n",
       "      <td>Medium</td>\n",
       "    </tr>\n",
       "  </tbody>\n",
       "</table>\n",
       "<p>5 rows × 22 columns</p>\n",
       "</div>"
      ],
      "text/plain": [
       "   ORDERNUMBER  QUANTITYORDERED  PRICEEACH  ORDERLINENUMBER    SALES  \\\n",
       "0        10107               30      95.70                2  2871.00   \n",
       "1        10121               34      81.35                5  2765.90   \n",
       "2        10134               41      94.74                2  3884.34   \n",
       "3        10145               45      83.26                6  3746.70   \n",
       "5        10168               36      96.66                1  3479.76   \n",
       "\n",
       "         ORDERDATE   STATUS  QTR_ID  MONTH_ID  YEAR_ID  ... PRODUCTCODE  \\\n",
       "0   2/24/2003 0:00  Shipped       1         2     2003  ...    S10_1678   \n",
       "1    5/7/2003 0:00  Shipped       2         5     2003  ...    S10_1678   \n",
       "2    7/1/2003 0:00  Shipped       3         7     2003  ...    S10_1678   \n",
       "3   8/25/2003 0:00  Shipped       3         8     2003  ...    S10_1678   \n",
       "5  10/28/2003 0:00  Shipped       4        10     2003  ...    S10_1678   \n",
       "\n",
       "           CUSTOMERNAME             PHONE                   ADDRESSLINE1  \\\n",
       "0     Land of Toys Inc.        2125557818        897 Long Airport Avenue   \n",
       "1    Reims Collectables        26.47.1555             59 rue de l'Abbaye   \n",
       "2       Lyon Souveniers  +33 1 46 62 7555  27 rue du Colonel Pierre Avia   \n",
       "3     Toys4GrownUps.com        6265557265             78934 Hillside Dr.   \n",
       "5  Technics Stores Inc.        6505556809              9408 Furth Circle   \n",
       "\n",
       "         CITY POSTALCODE COUNTRY CONTACTLASTNAME CONTACTFIRSTNAME DEALSIZE  \n",
       "0         NYC      10022     USA              Yu             Kwai    Small  \n",
       "1       Reims      51100  France         Henriot             Paul    Small  \n",
       "2       Paris      75508  France        Da Cunha           Daniel   Medium  \n",
       "3    Pasadena      90003     USA           Young            Julie   Medium  \n",
       "5  Burlingame      94217     USA          Hirano             Juri   Medium  \n",
       "\n",
       "[5 rows x 22 columns]"
      ]
     },
     "execution_count": 15,
     "metadata": {},
     "output_type": "execute_result"
    }
   ],
   "source": [
    "df.head()"
   ]
  },
  {
   "cell_type": "code",
   "execution_count": 16,
   "id": "a936b471",
   "metadata": {},
   "outputs": [
    {
     "data": {
      "text/plain": [
       "STATUS\n",
       "Cancelled      6960.48\n",
       "Disputed      10468.90\n",
       "In Process    12001.00\n",
       "On Hold       14082.80\n",
       "Resolved       8884.80\n",
       "Shipped       12536.50\n",
       "Name: SALES, dtype: float64"
      ]
     },
     "execution_count": 16,
     "metadata": {},
     "output_type": "execute_result"
    }
   ],
   "source": [
    "df.groupby(by='STATUS')['SALES'].agg(max)"
   ]
  },
  {
   "cell_type": "code",
   "execution_count": 17,
   "id": "f9656f06",
   "metadata": {},
   "outputs": [
    {
     "data": {
      "text/plain": [
       "<BarContainer object of 2747 artists>"
      ]
     },
     "execution_count": 17,
     "metadata": {},
     "output_type": "execute_result"
    },
    {
     "data": {
      "image/png": "[encoded data removed]",
      "text/plain": [
       "<Figure size 640x480 with 1 Axes>"
      ]
     },
     "metadata": {},
     "output_type": "display_data"
    }
   ],
   "source": [
    "plt.bar(df['STATUS'], df['SALES'])"
   ]
  },
  {
   "cell_type": "markdown",
   "id": "1ac79c2f",
   "metadata": {
    "papermill": {
     "duration": 0.007204,
     "end_time": "2023-12-16T17:42:40.301051",
     "exception": false,
     "start_time": "2023-12-16T17:42:40.293847",
     "status": "completed"
    },
    "tags": []
   },
   "source": [
    "## From this plot we can see that the most sales happened in 2005 and that make since as the bussiness is growing over years and this is also clear on the graph we plotted here"
   ]
  },
  {
   "cell_type": "code",
   "execution_count": 18,
   "id": "a43a648d",
   "metadata": {
    "execution": {
     "iopub.execute_input": "2023-12-16T17:42:40.317365Z",
     "iopub.status.busy": "2023-12-16T17:42:40.317015Z",
     "iopub.status.idle": "2023-12-16T17:42:40.323864Z",
     "shell.execute_reply": "2023-12-16T17:42:40.323086Z"
    },
    "papermill": {
     "duration": 0.017263,
     "end_time": "2023-12-16T17:42:40.325681",
     "exception": false,
     "start_time": "2023-12-16T17:42:40.308418",
     "status": "completed"
    },
    "tags": []
   },
   "outputs": [
    {
     "data": {
      "text/plain": [
       "array([ 1,  2,  3,  4,  5,  6,  7,  8,  9, 10, 11, 12], dtype=int64)"
      ]
     },
     "execution_count": 18,
     "metadata": {},
     "output_type": "execute_result"
    }
   ],
   "source": [
    "np.sort(df['MONTH_ID'].unique())"
   ]
  },
  {
   "cell_type": "code",
   "execution_count": 19,
   "id": "72e7e935",
   "metadata": {},
   "outputs": [
    {
     "data": {
      "text/plain": [
       "Index(['ORDERNUMBER', 'QUANTITYORDERED', 'PRICEEACH', 'ORDERLINENUMBER',\n",
       "       'SALES', 'ORDERDATE', 'STATUS', 'QTR_ID', 'MONTH_ID', 'YEAR_ID',\n",
       "       'PRODUCTLINE', 'MSRP', 'PRODUCTCODE', 'CUSTOMERNAME', 'PHONE',\n",
       "       'ADDRESSLINE1', 'CITY', 'POSTALCODE', 'COUNTRY', 'CONTACTLASTNAME',\n",
       "       'CONTACTFIRSTNAME', 'DEALSIZE'],\n",
       "      dtype='object')"
      ]
     },
     "execution_count": 19,
     "metadata": {},
     "output_type": "execute_result"
    }
   ],
   "source": [
    "df.columns"
   ]
  },
  {
   "cell_type": "code",
   "execution_count": 20,
   "id": "4a7b386d",
   "metadata": {},
   "outputs": [
    {
     "data": {
      "text/html": [
       "<div>\n",
       "<style scoped>\n",
       "    .dataframe tbody tr th:only-of-type {\n",
       "        vertical-align: middle;\n",
       "    }\n",
       "\n",
       "    .dataframe tbody tr th {\n",
       "        vertical-align: top;\n",
       "    }\n",
       "\n",
       "    .dataframe thead th {\n",
       "        text-align: right;\n",
       "    }\n",
       "</style>\n",
       "<table border=\"1\" class=\"dataframe\">\n",
       "  <thead>\n",
       "    <tr style=\"text-align: right;\">\n",
       "      <th></th>\n",
       "      <th>ORDERNUMBER</th>\n",
       "      <th>QUANTITYORDERED</th>\n",
       "      <th>PRICEEACH</th>\n",
       "      <th>ORDERLINENUMBER</th>\n",
       "      <th>SALES</th>\n",
       "      <th>ORDERDATE</th>\n",
       "      <th>STATUS</th>\n",
       "      <th>QTR_ID</th>\n",
       "      <th>MONTH_ID</th>\n",
       "      <th>YEAR_ID</th>\n",
       "      <th>...</th>\n",
       "      <th>PRODUCTCODE</th>\n",
       "      <th>CUSTOMERNAME</th>\n",
       "      <th>PHONE</th>\n",
       "      <th>ADDRESSLINE1</th>\n",
       "      <th>CITY</th>\n",
       "      <th>POSTALCODE</th>\n",
       "      <th>COUNTRY</th>\n",
       "      <th>CONTACTLASTNAME</th>\n",
       "      <th>CONTACTFIRSTNAME</th>\n",
       "      <th>DEALSIZE</th>\n",
       "    </tr>\n",
       "  </thead>\n",
       "  <tbody>\n",
       "    <tr>\n",
       "      <th>0</th>\n",
       "      <td>10107</td>\n",
       "      <td>30</td>\n",
       "      <td>95.70</td>\n",
       "      <td>2</td>\n",
       "      <td>2871.00</td>\n",
       "      <td>2/24/2003 0:00</td>\n",
       "      <td>Shipped</td>\n",
       "      <td>1</td>\n",
       "      <td>2</td>\n",
       "      <td>2003</td>\n",
       "      <td>...</td>\n",
       "      <td>S10_1678</td>\n",
       "      <td>Land of Toys Inc.</td>\n",
       "      <td>2125557818</td>\n",
       "      <td>897 Long Airport Avenue</td>\n",
       "      <td>NYC</td>\n",
       "      <td>10022</td>\n",
       "      <td>USA</td>\n",
       "      <td>Yu</td>\n",
       "      <td>Kwai</td>\n",
       "      <td>Small</td>\n",
       "    </tr>\n",
       "    <tr>\n",
       "      <th>1</th>\n",
       "      <td>10121</td>\n",
       "      <td>34</td>\n",
       "      <td>81.35</td>\n",
       "      <td>5</td>\n",
       "      <td>2765.90</td>\n",
       "      <td>5/7/2003 0:00</td>\n",
       "      <td>Shipped</td>\n",
       "      <td>2</td>\n",
       "      <td>5</td>\n",
       "      <td>2003</td>\n",
       "      <td>...</td>\n",
       "      <td>S10_1678</td>\n",
       "      <td>Reims Collectables</td>\n",
       "      <td>26.47.1555</td>\n",
       "      <td>59 rue de l'Abbaye</td>\n",
       "      <td>Reims</td>\n",
       "      <td>51100</td>\n",
       "      <td>France</td>\n",
       "      <td>Henriot</td>\n",
       "      <td>Paul</td>\n",
       "      <td>Small</td>\n",
       "    </tr>\n",
       "    <tr>\n",
       "      <th>2</th>\n",
       "      <td>10134</td>\n",
       "      <td>41</td>\n",
       "      <td>94.74</td>\n",
       "      <td>2</td>\n",
       "      <td>3884.34</td>\n",
       "      <td>7/1/2003 0:00</td>\n",
       "      <td>Shipped</td>\n",
       "      <td>3</td>\n",
       "      <td>7</td>\n",
       "      <td>2003</td>\n",
       "      <td>...</td>\n",
       "      <td>S10_1678</td>\n",
       "      <td>Lyon Souveniers</td>\n",
       "      <td>+33 1 46 62 7555</td>\n",
       "      <td>27 rue du Colonel Pierre Avia</td>\n",
       "      <td>Paris</td>\n",
       "      <td>75508</td>\n",
       "      <td>France</td>\n",
       "      <td>Da Cunha</td>\n",
       "      <td>Daniel</td>\n",
       "      <td>Medium</td>\n",
       "    </tr>\n",
       "    <tr>\n",
       "      <th>3</th>\n",
       "      <td>10145</td>\n",
       "      <td>45</td>\n",
       "      <td>83.26</td>\n",
       "      <td>6</td>\n",
       "      <td>3746.70</td>\n",
       "      <td>8/25/2003 0:00</td>\n",
       "      <td>Shipped</td>\n",
       "      <td>3</td>\n",
       "      <td>8</td>\n",
       "      <td>2003</td>\n",
       "      <td>...</td>\n",
       "      <td>S10_1678</td>\n",
       "      <td>Toys4GrownUps.com</td>\n",
       "      <td>6265557265</td>\n",
       "      <td>78934 Hillside Dr.</td>\n",
       "      <td>Pasadena</td>\n",
       "      <td>90003</td>\n",
       "      <td>USA</td>\n",
       "      <td>Young</td>\n",
       "      <td>Julie</td>\n",
       "      <td>Medium</td>\n",
       "    </tr>\n",
       "    <tr>\n",
       "      <th>5</th>\n",
       "      <td>10168</td>\n",
       "      <td>36</td>\n",
       "      <td>96.66</td>\n",
       "      <td>1</td>\n",
       "      <td>3479.76</td>\n",
       "      <td>10/28/2003 0:00</td>\n",
       "      <td>Shipped</td>\n",
       "      <td>4</td>\n",
       "      <td>10</td>\n",
       "      <td>2003</td>\n",
       "      <td>...</td>\n",
       "      <td>S10_1678</td>\n",
       "      <td>Technics Stores Inc.</td>\n",
       "      <td>6505556809</td>\n",
       "      <td>9408 Furth Circle</td>\n",
       "      <td>Burlingame</td>\n",
       "      <td>94217</td>\n",
       "      <td>USA</td>\n",
       "      <td>Hirano</td>\n",
       "      <td>Juri</td>\n",
       "      <td>Medium</td>\n",
       "    </tr>\n",
       "  </tbody>\n",
       "</table>\n",
       "<p>5 rows × 22 columns</p>\n",
       "</div>"
      ],
      "text/plain": [
       "   ORDERNUMBER  QUANTITYORDERED  PRICEEACH  ORDERLINENUMBER    SALES  \\\n",
       "0        10107               30      95.70                2  2871.00   \n",
       "1        10121               34      81.35                5  2765.90   \n",
       "2        10134               41      94.74                2  3884.34   \n",
       "3        10145               45      83.26                6  3746.70   \n",
       "5        10168               36      96.66                1  3479.76   \n",
       "\n",
       "         ORDERDATE   STATUS  QTR_ID  MONTH_ID  YEAR_ID  ... PRODUCTCODE  \\\n",
       "0   2/24/2003 0:00  Shipped       1         2     2003  ...    S10_1678   \n",
       "1    5/7/2003 0:00  Shipped       2         5     2003  ...    S10_1678   \n",
       "2    7/1/2003 0:00  Shipped       3         7     2003  ...    S10_1678   \n",
       "3   8/25/2003 0:00  Shipped       3         8     2003  ...    S10_1678   \n",
       "5  10/28/2003 0:00  Shipped       4        10     2003  ...    S10_1678   \n",
       "\n",
       "           CUSTOMERNAME             PHONE                   ADDRESSLINE1  \\\n",
       "0     Land of Toys Inc.        2125557818        897 Long Airport Avenue   \n",
       "1    Reims Collectables        26.47.1555             59 rue de l'Abbaye   \n",
       "2       Lyon Souveniers  +33 1 46 62 7555  27 rue du Colonel Pierre Avia   \n",
       "3     Toys4GrownUps.com        6265557265             78934 Hillside Dr.   \n",
       "5  Technics Stores Inc.        6505556809              9408 Furth Circle   \n",
       "\n",
       "         CITY POSTALCODE COUNTRY CONTACTLASTNAME CONTACTFIRSTNAME DEALSIZE  \n",
       "0         NYC      10022     USA              Yu             Kwai    Small  \n",
       "1       Reims      51100  France         Henriot             Paul    Small  \n",
       "2       Paris      75508  France        Da Cunha           Daniel   Medium  \n",
       "3    Pasadena      90003     USA           Young            Julie   Medium  \n",
       "5  Burlingame      94217     USA          Hirano             Juri   Medium  \n",
       "\n",
       "[5 rows x 22 columns]"
      ]
     },
     "execution_count": 20,
     "metadata": {},
     "output_type": "execute_result"
    }
   ],
   "source": [
    "df_for_2003=df[df['YEAR_ID']==2003]\n",
    "df_for_2003.head()"
   ]
  },
  {
   "cell_type": "code",
   "execution_count": 21,
   "id": "63260351",
   "metadata": {},
   "outputs": [
    {
     "data": {
      "image/png": "[encoded data removed]",
      "text/plain": [
       "<Figure size 640x480 with 1 Axes>"
      ]
     },
     "metadata": {},
     "output_type": "display_data"
    }
   ],
   "source": [
    "# plot the sales over months using bar plots \n",
    "plt.bar(df_for_2003['MONTH_ID'], df_for_2003['SALES'], linewidth=2)\n",
    "plt.xticks([ 1,  2,  3,  4,  5,  6,  7,  8,  9, 10, 11, 12])\n",
    "plt.title('Sales (USD) over months over 2003')\n",
    "plt.xlabel('Month')\n",
    "plt.ylabel('Sales (USD)')\n",
    "plt.grid(True)\n",
    "plt.show()"
   ]
  },
  {
   "cell_type": "code",
   "execution_count": 22,
   "id": "47633528",
   "metadata": {},
   "outputs": [
    {
     "data": {
      "text/html": [
       "<div>\n",
       "<style scoped>\n",
       "    .dataframe tbody tr th:only-of-type {\n",
       "        vertical-align: middle;\n",
       "    }\n",
       "\n",
       "    .dataframe tbody tr th {\n",
       "        vertical-align: top;\n",
       "    }\n",
       "\n",
       "    .dataframe thead th {\n",
       "        text-align: right;\n",
       "    }\n",
       "</style>\n",
       "<table border=\"1\" class=\"dataframe\">\n",
       "  <thead>\n",
       "    <tr style=\"text-align: right;\">\n",
       "      <th></th>\n",
       "      <th>ORDERNUMBER</th>\n",
       "      <th>QUANTITYORDERED</th>\n",
       "      <th>PRICEEACH</th>\n",
       "      <th>ORDERLINENUMBER</th>\n",
       "      <th>SALES</th>\n",
       "      <th>ORDERDATE</th>\n",
       "      <th>STATUS</th>\n",
       "      <th>QTR_ID</th>\n",
       "      <th>MONTH_ID</th>\n",
       "      <th>YEAR_ID</th>\n",
       "      <th>...</th>\n",
       "      <th>PRODUCTCODE</th>\n",
       "      <th>CUSTOMERNAME</th>\n",
       "      <th>PHONE</th>\n",
       "      <th>ADDRESSLINE1</th>\n",
       "      <th>CITY</th>\n",
       "      <th>POSTALCODE</th>\n",
       "      <th>COUNTRY</th>\n",
       "      <th>CONTACTLASTNAME</th>\n",
       "      <th>CONTACTFIRSTNAME</th>\n",
       "      <th>DEALSIZE</th>\n",
       "    </tr>\n",
       "  </thead>\n",
       "  <tbody>\n",
       "    <tr>\n",
       "      <th>9</th>\n",
       "      <td>10211</td>\n",
       "      <td>41</td>\n",
       "      <td>100.0</td>\n",
       "      <td>14</td>\n",
       "      <td>4708.44</td>\n",
       "      <td>1/15/2004 0:00</td>\n",
       "      <td>Shipped</td>\n",
       "      <td>1</td>\n",
       "      <td>1</td>\n",
       "      <td>2004</td>\n",
       "      <td>...</td>\n",
       "      <td>S10_1678</td>\n",
       "      <td>Auto Canal Petit</td>\n",
       "      <td>(1) 47.55.6555</td>\n",
       "      <td>25, rue Lauriston</td>\n",
       "      <td>Paris</td>\n",
       "      <td>75016</td>\n",
       "      <td>France</td>\n",
       "      <td>Perrier</td>\n",
       "      <td>Dominique</td>\n",
       "      <td>Medium</td>\n",
       "    </tr>\n",
       "    <tr>\n",
       "      <th>10</th>\n",
       "      <td>10223</td>\n",
       "      <td>37</td>\n",
       "      <td>100.0</td>\n",
       "      <td>1</td>\n",
       "      <td>3965.66</td>\n",
       "      <td>2/20/2004 0:00</td>\n",
       "      <td>Shipped</td>\n",
       "      <td>1</td>\n",
       "      <td>2</td>\n",
       "      <td>2004</td>\n",
       "      <td>...</td>\n",
       "      <td>S10_1678</td>\n",
       "      <td>Australian Collectors, Co.</td>\n",
       "      <td>03 9520 4555</td>\n",
       "      <td>636 St Kilda Road</td>\n",
       "      <td>Melbourne</td>\n",
       "      <td>3004</td>\n",
       "      <td>Australia</td>\n",
       "      <td>Ferguson</td>\n",
       "      <td>Peter</td>\n",
       "      <td>Medium</td>\n",
       "    </tr>\n",
       "    <tr>\n",
       "      <th>11</th>\n",
       "      <td>10237</td>\n",
       "      <td>23</td>\n",
       "      <td>100.0</td>\n",
       "      <td>7</td>\n",
       "      <td>2333.12</td>\n",
       "      <td>4/5/2004 0:00</td>\n",
       "      <td>Shipped</td>\n",
       "      <td>2</td>\n",
       "      <td>4</td>\n",
       "      <td>2004</td>\n",
       "      <td>...</td>\n",
       "      <td>S10_1678</td>\n",
       "      <td>Vitachrome Inc.</td>\n",
       "      <td>2125551500</td>\n",
       "      <td>2678 Kingston Rd.</td>\n",
       "      <td>NYC</td>\n",
       "      <td>10022</td>\n",
       "      <td>USA</td>\n",
       "      <td>Frick</td>\n",
       "      <td>Michael</td>\n",
       "      <td>Small</td>\n",
       "    </tr>\n",
       "    <tr>\n",
       "      <th>12</th>\n",
       "      <td>10251</td>\n",
       "      <td>28</td>\n",
       "      <td>100.0</td>\n",
       "      <td>2</td>\n",
       "      <td>3188.64</td>\n",
       "      <td>5/18/2004 0:00</td>\n",
       "      <td>Shipped</td>\n",
       "      <td>2</td>\n",
       "      <td>5</td>\n",
       "      <td>2004</td>\n",
       "      <td>...</td>\n",
       "      <td>S10_1678</td>\n",
       "      <td>Tekni Collectables Inc.</td>\n",
       "      <td>2015559350</td>\n",
       "      <td>7476 Moss Rd.</td>\n",
       "      <td>Newark</td>\n",
       "      <td>94019</td>\n",
       "      <td>USA</td>\n",
       "      <td>Brown</td>\n",
       "      <td>William</td>\n",
       "      <td>Medium</td>\n",
       "    </tr>\n",
       "    <tr>\n",
       "      <th>13</th>\n",
       "      <td>10263</td>\n",
       "      <td>34</td>\n",
       "      <td>100.0</td>\n",
       "      <td>2</td>\n",
       "      <td>3676.76</td>\n",
       "      <td>6/28/2004 0:00</td>\n",
       "      <td>Shipped</td>\n",
       "      <td>2</td>\n",
       "      <td>6</td>\n",
       "      <td>2004</td>\n",
       "      <td>...</td>\n",
       "      <td>S10_1678</td>\n",
       "      <td>Gift Depot Inc.</td>\n",
       "      <td>2035552570</td>\n",
       "      <td>25593 South Bay Ln.</td>\n",
       "      <td>Bridgewater</td>\n",
       "      <td>97562</td>\n",
       "      <td>USA</td>\n",
       "      <td>King</td>\n",
       "      <td>Julie</td>\n",
       "      <td>Medium</td>\n",
       "    </tr>\n",
       "  </tbody>\n",
       "</table>\n",
       "<p>5 rows × 22 columns</p>\n",
       "</div>"
      ],
      "text/plain": [
       "    ORDERNUMBER  QUANTITYORDERED  PRICEEACH  ORDERLINENUMBER    SALES  \\\n",
       "9         10211               41      100.0               14  4708.44   \n",
       "10        10223               37      100.0                1  3965.66   \n",
       "11        10237               23      100.0                7  2333.12   \n",
       "12        10251               28      100.0                2  3188.64   \n",
       "13        10263               34      100.0                2  3676.76   \n",
       "\n",
       "         ORDERDATE   STATUS  QTR_ID  MONTH_ID  YEAR_ID  ... PRODUCTCODE  \\\n",
       "9   1/15/2004 0:00  Shipped       1         1     2004  ...    S10_1678   \n",
       "10  2/20/2004 0:00  Shipped       1         2     2004  ...    S10_1678   \n",
       "11   4/5/2004 0:00  Shipped       2         4     2004  ...    S10_1678   \n",
       "12  5/18/2004 0:00  Shipped       2         5     2004  ...    S10_1678   \n",
       "13  6/28/2004 0:00  Shipped       2         6     2004  ...    S10_1678   \n",
       "\n",
       "                  CUSTOMERNAME           PHONE         ADDRESSLINE1  \\\n",
       "9             Auto Canal Petit  (1) 47.55.6555    25, rue Lauriston   \n",
       "10  Australian Collectors, Co.    03 9520 4555    636 St Kilda Road   \n",
       "11             Vitachrome Inc.      2125551500    2678 Kingston Rd.   \n",
       "12     Tekni Collectables Inc.      2015559350        7476 Moss Rd.   \n",
       "13             Gift Depot Inc.      2035552570  25593 South Bay Ln.   \n",
       "\n",
       "           CITY POSTALCODE    COUNTRY CONTACTLASTNAME CONTACTFIRSTNAME  \\\n",
       "9         Paris      75016     France         Perrier        Dominique   \n",
       "10    Melbourne       3004  Australia        Ferguson            Peter   \n",
       "11          NYC      10022        USA           Frick          Michael   \n",
       "12       Newark      94019        USA           Brown          William   \n",
       "13  Bridgewater      97562        USA            King            Julie   \n",
       "\n",
       "   DEALSIZE  \n",
       "9    Medium  \n",
       "10   Medium  \n",
       "11    Small  \n",
       "12   Medium  \n",
       "13   Medium  \n",
       "\n",
       "[5 rows x 22 columns]"
      ]
     },
     "execution_count": 22,
     "metadata": {},
     "output_type": "execute_result"
    }
   ],
   "source": [
    "df_for_2004=df[df['YEAR_ID']==2004]\n",
    "df_for_2004.head()"
   ]
  },
  {
   "cell_type": "code",
   "execution_count": 23,
   "id": "742d7a46",
   "metadata": {},
   "outputs": [
    {
     "data": {
      "image/png": "[encoded data removed]",
      "text/plain": [
       "<Figure size 640x480 with 1 Axes>"
      ]
     },
     "metadata": {},
     "output_type": "display_data"
    }
   ],
   "source": [
    "# # plot the sales over months using bar plots \n",
    "plt.bar(df_for_2004['MONTH_ID'], df_for_2004['SALES'], linewidth=2)\n",
    "plt.xticks([ 1,  2,  3,  4,  5,  6,  7,  8,  9, 10, 11, 12])\n",
    "plt.title('Sales (USD) over months over 2004')\n",
    "plt.xlabel('Month')\n",
    "plt.ylabel('Sales (USD)')\n",
    "plt.grid(True)\n",
    "plt.show()"
   ]
  },
  {
   "cell_type": "code",
   "execution_count": 24,
   "id": "7bacbb78",
   "metadata": {},
   "outputs": [
    {
     "data": {
      "text/html": [
       "<div>\n",
       "<style scoped>\n",
       "    .dataframe tbody tr th:only-of-type {\n",
       "        vertical-align: middle;\n",
       "    }\n",
       "\n",
       "    .dataframe tbody tr th {\n",
       "        vertical-align: top;\n",
       "    }\n",
       "\n",
       "    .dataframe thead th {\n",
       "        text-align: right;\n",
       "    }\n",
       "</style>\n",
       "<table border=\"1\" class=\"dataframe\">\n",
       "  <thead>\n",
       "    <tr style=\"text-align: right;\">\n",
       "      <th></th>\n",
       "      <th>ORDERNUMBER</th>\n",
       "      <th>QUANTITYORDERED</th>\n",
       "      <th>PRICEEACH</th>\n",
       "      <th>ORDERLINENUMBER</th>\n",
       "      <th>SALES</th>\n",
       "      <th>ORDERDATE</th>\n",
       "      <th>STATUS</th>\n",
       "      <th>QTR_ID</th>\n",
       "      <th>MONTH_ID</th>\n",
       "      <th>YEAR_ID</th>\n",
       "      <th>...</th>\n",
       "      <th>PRODUCTCODE</th>\n",
       "      <th>CUSTOMERNAME</th>\n",
       "      <th>PHONE</th>\n",
       "      <th>ADDRESSLINE1</th>\n",
       "      <th>CITY</th>\n",
       "      <th>POSTALCODE</th>\n",
       "      <th>COUNTRY</th>\n",
       "      <th>CONTACTLASTNAME</th>\n",
       "      <th>CONTACTFIRSTNAME</th>\n",
       "      <th>DEALSIZE</th>\n",
       "    </tr>\n",
       "  </thead>\n",
       "  <tbody>\n",
       "    <tr>\n",
       "      <th>22</th>\n",
       "      <td>10375</td>\n",
       "      <td>21</td>\n",
       "      <td>34.91</td>\n",
       "      <td>12</td>\n",
       "      <td>733.11</td>\n",
       "      <td>2/3/2005 0:00</td>\n",
       "      <td>Shipped</td>\n",
       "      <td>1</td>\n",
       "      <td>2</td>\n",
       "      <td>2005</td>\n",
       "      <td>...</td>\n",
       "      <td>S10_1678</td>\n",
       "      <td>La Rochelle Gifts</td>\n",
       "      <td>40.67.8555</td>\n",
       "      <td>67, rue des Cinquante Otages</td>\n",
       "      <td>Nantes</td>\n",
       "      <td>44000</td>\n",
       "      <td>France</td>\n",
       "      <td>Labrune</td>\n",
       "      <td>Janine</td>\n",
       "      <td>Small</td>\n",
       "    </tr>\n",
       "    <tr>\n",
       "      <th>23</th>\n",
       "      <td>10388</td>\n",
       "      <td>42</td>\n",
       "      <td>76.36</td>\n",
       "      <td>4</td>\n",
       "      <td>3207.12</td>\n",
       "      <td>3/3/2005 0:00</td>\n",
       "      <td>Shipped</td>\n",
       "      <td>1</td>\n",
       "      <td>3</td>\n",
       "      <td>2005</td>\n",
       "      <td>...</td>\n",
       "      <td>S10_1678</td>\n",
       "      <td>FunGiftIdeas.com</td>\n",
       "      <td>5085552555</td>\n",
       "      <td>1785 First Street</td>\n",
       "      <td>New Bedford</td>\n",
       "      <td>50553</td>\n",
       "      <td>USA</td>\n",
       "      <td>Benitez</td>\n",
       "      <td>Violeta</td>\n",
       "      <td>Medium</td>\n",
       "    </tr>\n",
       "    <tr>\n",
       "      <th>24</th>\n",
       "      <td>10403</td>\n",
       "      <td>24</td>\n",
       "      <td>100.00</td>\n",
       "      <td>7</td>\n",
       "      <td>2434.56</td>\n",
       "      <td>4/8/2005 0:00</td>\n",
       "      <td>Shipped</td>\n",
       "      <td>2</td>\n",
       "      <td>4</td>\n",
       "      <td>2005</td>\n",
       "      <td>...</td>\n",
       "      <td>S10_1678</td>\n",
       "      <td>UK Collectables, Ltd.</td>\n",
       "      <td>(171) 555-2282</td>\n",
       "      <td>Berkeley Gardens 12  Brewery</td>\n",
       "      <td>Liverpool</td>\n",
       "      <td>WX1 6LT</td>\n",
       "      <td>UK</td>\n",
       "      <td>Devon</td>\n",
       "      <td>Elizabeth</td>\n",
       "      <td>Small</td>\n",
       "    </tr>\n",
       "    <tr>\n",
       "      <th>25</th>\n",
       "      <td>10417</td>\n",
       "      <td>66</td>\n",
       "      <td>100.00</td>\n",
       "      <td>2</td>\n",
       "      <td>7516.08</td>\n",
       "      <td>5/13/2005 0:00</td>\n",
       "      <td>Disputed</td>\n",
       "      <td>2</td>\n",
       "      <td>5</td>\n",
       "      <td>2005</td>\n",
       "      <td>...</td>\n",
       "      <td>S10_1678</td>\n",
       "      <td>Euro Shopping Channel</td>\n",
       "      <td>(91) 555 94 44</td>\n",
       "      <td>C/ Moralzarzal, 86</td>\n",
       "      <td>Madrid</td>\n",
       "      <td>28034</td>\n",
       "      <td>Spain</td>\n",
       "      <td>Freyre</td>\n",
       "      <td>Diego</td>\n",
       "      <td>Large</td>\n",
       "    </tr>\n",
       "    <tr>\n",
       "      <th>49</th>\n",
       "      <td>10369</td>\n",
       "      <td>41</td>\n",
       "      <td>100.00</td>\n",
       "      <td>2</td>\n",
       "      <td>4514.92</td>\n",
       "      <td>1/20/2005 0:00</td>\n",
       "      <td>Shipped</td>\n",
       "      <td>1</td>\n",
       "      <td>1</td>\n",
       "      <td>2005</td>\n",
       "      <td>...</td>\n",
       "      <td>S10_1949</td>\n",
       "      <td>Collectables For Less Inc.</td>\n",
       "      <td>6175558555</td>\n",
       "      <td>7825 Douglas Av.</td>\n",
       "      <td>Brickhaven</td>\n",
       "      <td>58339</td>\n",
       "      <td>USA</td>\n",
       "      <td>Nelson</td>\n",
       "      <td>Allen</td>\n",
       "      <td>Medium</td>\n",
       "    </tr>\n",
       "  </tbody>\n",
       "</table>\n",
       "<p>5 rows × 22 columns</p>\n",
       "</div>"
      ],
      "text/plain": [
       "    ORDERNUMBER  QUANTITYORDERED  PRICEEACH  ORDERLINENUMBER    SALES  \\\n",
       "22        10375               21      34.91               12   733.11   \n",
       "23        10388               42      76.36                4  3207.12   \n",
       "24        10403               24     100.00                7  2434.56   \n",
       "25        10417               66     100.00                2  7516.08   \n",
       "49        10369               41     100.00                2  4514.92   \n",
       "\n",
       "         ORDERDATE    STATUS  QTR_ID  MONTH_ID  YEAR_ID  ... PRODUCTCODE  \\\n",
       "22   2/3/2005 0:00   Shipped       1         2     2005  ...    S10_1678   \n",
       "23   3/3/2005 0:00   Shipped       1         3     2005  ...    S10_1678   \n",
       "24   4/8/2005 0:00   Shipped       2         4     2005  ...    S10_1678   \n",
       "25  5/13/2005 0:00  Disputed       2         5     2005  ...    S10_1678   \n",
       "49  1/20/2005 0:00   Shipped       1         1     2005  ...    S10_1949   \n",
       "\n",
       "                  CUSTOMERNAME           PHONE                  ADDRESSLINE1  \\\n",
       "22           La Rochelle Gifts      40.67.8555  67, rue des Cinquante Otages   \n",
       "23            FunGiftIdeas.com      5085552555             1785 First Street   \n",
       "24       UK Collectables, Ltd.  (171) 555-2282  Berkeley Gardens 12  Brewery   \n",
       "25       Euro Shopping Channel  (91) 555 94 44            C/ Moralzarzal, 86   \n",
       "49  Collectables For Less Inc.      6175558555              7825 Douglas Av.   \n",
       "\n",
       "           CITY POSTALCODE COUNTRY CONTACTLASTNAME CONTACTFIRSTNAME DEALSIZE  \n",
       "22       Nantes      44000  France         Labrune           Janine    Small  \n",
       "23  New Bedford      50553     USA         Benitez          Violeta   Medium  \n",
       "24    Liverpool    WX1 6LT      UK           Devon        Elizabeth    Small  \n",
       "25       Madrid      28034   Spain          Freyre            Diego    Large  \n",
       "49   Brickhaven      58339     USA          Nelson            Allen   Medium  \n",
       "\n",
       "[5 rows x 22 columns]"
      ]
     },
     "execution_count": 24,
     "metadata": {},
     "output_type": "execute_result"
    }
   ],
   "source": [
    "df_for_2005=df[df['YEAR_ID']==2005]\n",
    "df_for_2005.head()"
   ]
  },
  {
   "cell_type": "code",
   "execution_count": 25,
   "id": "946d387a",
   "metadata": {},
   "outputs": [
    {
     "data": {
      "image/png": "[encoded data removed]",
      "text/plain": [
       "<Figure size 640x480 with 1 Axes>"
      ]
     },
     "metadata": {},
     "output_type": "display_data"
    }
   ],
   "source": [
    " # plot the sales over months using bar plots \n",
    "plt.bar(df_for_2005['MONTH_ID'], df_for_2005['SALES'], linewidth=2)\n",
    "plt.xticks([ 1,  2,  3,  4,  5,  6,  7,  8,  9, 10, 11, 12])\n",
    "plt.title('Sales (USD) over months over 2005')\n",
    "plt.xlabel('Month')\n",
    "plt.ylabel('Sales (USD)')\n",
    "plt.grid(True)\n",
    "plt.show()"
   ]
  },
  {
   "cell_type": "code",
   "execution_count": 26,
   "id": "a44debe3",
   "metadata": {
    "execution": {
     "iopub.execute_input": "2023-12-16T17:42:40.343245Z",
     "iopub.status.busy": "2023-12-16T17:42:40.342105Z",
     "iopub.status.idle": "2023-12-16T17:42:44.523079Z",
     "shell.execute_reply": "2023-12-16T17:42:44.522041Z"
    },
    "papermill": {
     "duration": 4.192003,
     "end_time": "2023-12-16T17:42:44.525259",
     "exception": false,
     "start_time": "2023-12-16T17:42:40.333256",
     "status": "completed"
    },
    "scrolled": true,
    "tags": []
   },
   "outputs": [
    {
     "data": {
      "image/png": "[encoded data removed]",
      "text/plain": [
       "<Figure size 640x480 with 1 Axes>"
      ]
     },
     "metadata": {},
     "output_type": "display_data"
    }
   ],
   "source": [
    "# plot the sales over months using bar plots \n",
    "plt.bar(df['MONTH_ID'], df['SALES'], linewidth=2)\n",
    "plt.xticks([ 1,  2,  3,  4,  5,  6,  7,  8,  9, 10, 11, 12])\n",
    "plt.title('Sales (USD) over months')\n",
    "plt.xlabel('Month')\n",
    "plt.ylabel('Sales (USD)')\n",
    "plt.grid(True)\n",
    "plt.show()"
   ]
  },
  {
   "cell_type": "markdown",
   "id": "89f3cd8e",
   "metadata": {
    "papermill": {
     "duration": 0.007875,
     "end_time": "2023-12-16T17:42:44.541407",
     "exception": false,
     "start_time": "2023-12-16T17:42:44.533532",
     "status": "completed"
    },
    "tags": []
   },
   "source": [
    "## The most sales at April as we see on the graph and this is might be because most the products are toys and the like and April is the beginnig of the summer holiday , I think this is the reason. It will be more clear when you make more analysis, too."
   ]
  },
  {
   "cell_type": "code",
   "execution_count": 30,
   "id": "86f89509",
   "metadata": {},
   "outputs": [
    {
     "data": {
      "text/plain": [
       "Text(0, 0.5, 'percent')"
      ]
     },
     "execution_count": 30,
     "metadata": {},
     "output_type": "execute_result"
    },
    {
     "data": {
      "image/png": "[encoded data removed]",
      "text/plain": [
       "<Figure size 640x480 with 1 Axes>"
      ]
     },
     "metadata": {},
     "output_type": "display_data"
    }
   ],
   "source": [
    "labels= [\"2003\", \"2004\", \"2005\"]\n",
    "plt.pie([sum(df_for_2003[\"SALES\"]), sum(df_for_2004[\"SALES\"]), sum(df_for_2005[\"SALES\"])], labels= labels, autopct=\"%.2f\", explode = [.02,.02,.02])\n",
    "plt.title(\"percentage of sales by Year\", c=\"g\")\n",
    "plt.xlabel(\"Year\", c = \"y\")\n",
    "plt.ylabel(\"percent\", c=\"g\")"
   ]
  },
  {
   "cell_type": "code",
   "execution_count": 28,
   "id": "d5cbab51",
   "metadata": {},
   "outputs": [
    {
     "data": {
      "image/png": "[encoded data removed]",
      "text/plain": [
       "<Figure size 640x480 with 1 Axes>"
      ]
     },
     "metadata": {},
     "output_type": "display_data"
    }
   ],
   "source": [
    "plt.boxplot([df_for_2003[\"SALES\"],df_for_2004[\"SALES\"], df_for_2005[\"SALES\"]], labels= labels)\n",
    "plt.title(\"sales per order(USD)\", c=\"r\")\n",
    "plt.xlabel(\"Year\", c=\"r\")\n",
    "plt.ylabel(\"Sales(USD)\", c=\"r\")\n",
    "plt.show()\n"
   ]
  },
  {
   "cell_type": "code",
   "execution_count": 29,
   "id": "1a9c2254",
   "metadata": {
    "execution": {
     "iopub.execute_input": "2023-12-16T17:42:44.559710Z",
     "iopub.status.busy": "2023-12-16T17:42:44.559300Z",
     "iopub.status.idle": "2023-12-16T17:42:44.571600Z",
     "shell.execute_reply": "2023-12-16T17:42:44.570875Z"
    },
    "papermill": {
     "duration": 0.023645,
     "end_time": "2023-12-16T17:42:44.573372",
     "exception": false,
     "start_time": "2023-12-16T17:42:44.549727",
     "status": "completed"
    },
    "tags": []
   },
   "outputs": [
    {
     "data": {
      "text/html": [
       "<div>\n",
       "<style scoped>\n",
       "    .dataframe tbody tr th:only-of-type {\n",
       "        vertical-align: middle;\n",
       "    }\n",
       "\n",
       "    .dataframe tbody tr th {\n",
       "        vertical-align: top;\n",
       "    }\n",
       "\n",
       "    .dataframe thead th {\n",
       "        text-align: right;\n",
       "    }\n",
       "</style>\n",
       "<table border=\"1\" class=\"dataframe\">\n",
       "  <thead>\n",
       "    <tr style=\"text-align: right;\">\n",
       "      <th></th>\n",
       "      <th>QUANTITYORDERED</th>\n",
       "      <th>SALES</th>\n",
       "    </tr>\n",
       "  </thead>\n",
       "  <tbody>\n",
       "    <tr>\n",
       "      <th>QUANTITYORDERED</th>\n",
       "      <td>1.000000</td>\n",
       "      <td>0.553359</td>\n",
       "    </tr>\n",
       "    <tr>\n",
       "      <th>SALES</th>\n",
       "      <td>0.553359</td>\n",
       "      <td>1.000000</td>\n",
       "    </tr>\n",
       "  </tbody>\n",
       "</table>\n",
       "</div>"
      ],
      "text/plain": [
       "                 QUANTITYORDERED     SALES\n",
       "QUANTITYORDERED         1.000000  0.553359\n",
       "SALES                   0.553359  1.000000"
      ]
     },
     "execution_count": 29,
     "metadata": {},
     "output_type": "execute_result"
    }
   ],
   "source": [
    "# Show the correlation between quantity ordered and the sales using .corr\n",
    "df[['QUANTITYORDERED', 'SALES']].corr()"
   ]
  },
  {
   "cell_type": "markdown",
   "id": "4bc212e9",
   "metadata": {
    "papermill": {
     "duration": 0.008028,
     "end_time": "2023-12-16T17:42:44.589865",
     "exception": false,
     "start_time": "2023-12-16T17:42:44.581837",
     "status": "completed"
    },
    "tags": []
   },
   "source": [
    "## This means that the reason for sales is often not necessarily due to quantity"
   ]
  }
 ],
 "metadata": {
  "kaggle": {
   "accelerator": "none",
   "dataSources": [
    {
     "datasetId": 435,
     "sourceId": 896,
     "sourceType": "datasetVersion"
    }
   ],
   "dockerImageVersionId": 30626,
   "isGpuEnabled": false,
   "isInternetEnabled": true,
   "language": "python",
   "sourceType": "notebook"
  },
  "kernelspec": {
   "display_name": "Python 3 (ipykernel)",
   "language": "python",
   "name": "python3"
  },
  "language_info": {
   "codemirror_mode": {
    "name": "ipython",
    "version": 3
   },
   "file_extension": ".py",
   "mimetype": "text/x-python",
   "name": "python",
   "nbconvert_exporter": "python",
   "pygments_lexer": "ipython3",
   "version": "3.11.5"
  },
  "papermill": {
   "default_parameters": {},
   "duration": 12.854604,
   "end_time": "2023-12-16T17:42:45.268278",
   "environment_variables": {},
   "exception": null,
   "input_path": "__notebook__.ipynb",
   "output_path": "__notebook__.ipynb",
   "parameters": {},
   "start_time": "2023-12-16T17:42:32.413674",
   "version": "2.4.0"
  }
 },
 "nbformat": 4,
 "nbformat_minor": 5
}
